{
 "cells": [
  {
   "cell_type": "code",
   "execution_count": 1,
   "metadata": {},
   "outputs": [
    {
     "name": "stdout",
     "output_type": "stream",
     "text": [
      "The autoreload extension is already loaded. To reload it, use:\n",
      "  %reload_ext autoreload\n"
     ]
    }
   ],
   "source": [
    "%load_ext autoreload\n",
    "%autoreload 2"
   ]
  },
  {
   "cell_type": "code",
   "execution_count": 2,
   "metadata": {},
   "outputs": [],
   "source": [
    "import numpy as np \n",
    "import os \n",
    "import librosa\n",
    "from glob import glob\n",
    "from tqdm import tqdm\n",
    "import pdb \n",
    "import IPython.display as ipd"
   ]
  },
  {
   "cell_type": "code",
   "execution_count": 3,
   "metadata": {},
   "outputs": [],
   "source": [
    "data_dir = \"/Users/sanchit/Documents/Projects/datasets/audio_data/speech_commands/\""
   ]
  },
  {
   "cell_type": "code",
   "execution_count": 4,
   "metadata": {},
   "outputs": [],
   "source": [
    "# define parameters \n",
    "n_fft = 2048\n",
    "hop_length = int(n_fft/4)\n",
    "save_whole_dataset = False "
   ]
  },
  {
   "cell_type": "code",
   "execution_count": 5,
   "metadata": {},
   "outputs": [],
   "source": [
    "def compute_mel_spectrogram(data, sampling_rate):\n",
    "    \"\"\"compute mel spectrogram of the signal\"\"\"\n",
    "    mel_spectrogram = librosa.feature.melspectrogram(data, sr=sampling_rate)\n",
    "\n",
    "    return librosa.power_to_db(abs(mel_spectrogram))"
   ]
  },
  {
   "cell_type": "code",
   "execution_count": 6,
   "metadata": {},
   "outputs": [],
   "source": [
    "def load_data_cleaned(dir_path=\"\", class_mode='binary', classes=None):\n",
    "    \n",
    "    dataset = dict() \n",
    "    directories=[d for d in os.listdir(dir_path) if os.path.isdir(d) or (not d.startswith(\".\"))]\n",
    "    for label, class_name in enumerate(directories):\n",
    "        dataset[class_name] = list() \n",
    "        print(f\"loading data for class: {class_name}\")\n",
    "        class_dir = os.path.join(dir_path, class_name) \n",
    "\n",
    "        print(f\"number of files: {len(glob(class_dir + '/*.wav'))}\")\n",
    "        for file_path in glob(class_dir + '/*.wav'):\n",
    "            audio_data, sampling_rate = librosa.load(file_path, duration=1.0)\n",
    "\n",
    "            if len(audio_data) > sampling_rate or len(audio_data) < sampling_rate:\n",
    "                continue \n",
    "\n",
    "            mel_spec = compute_mel_spectrogram(audio_data, sampling_rate)\n",
    "\n",
    "            # save the mel spectrogram features \n",
    "            dataset[class_name].append(mel_spec)\n",
    "\n",
    "    return dataset "
   ]
  },
  {
   "cell_type": "code",
   "execution_count": 7,
   "metadata": {},
   "outputs": [
    {
     "name": "stdout",
     "output_type": "stream",
     "text": [
      "loading data for class: right\n",
      "number of files: 2367\n",
      "loading data for class: background\n",
      "number of files: 0\n",
      "loading data for class: go\n",
      "number of files: 2372\n",
      "loading data for class: no\n",
      "number of files: 2375\n",
      "loading data for class: left\n",
      "number of files: 2353\n",
      "loading data for class: stop\n",
      "number of files: 2380\n",
      "loading data for class: up\n",
      "number of files: 2375\n",
      "loading data for class: down\n",
      "number of files: 2359\n",
      "loading data for class: yes\n",
      "number of files: 2377\n",
      "loading data for class: on\n",
      "number of files: 2367\n",
      "loading data for class: off\n",
      "number of files: 2357\n"
     ]
    }
   ],
   "source": [
    "audio_clean_dataset = load_data_cleaned(dir_path=data_dir)"
   ]
  },
  {
   "cell_type": "code",
   "execution_count": 21,
   "metadata": {},
   "outputs": [
    {
     "name": "stdout",
     "output_type": "stream",
     "text": [
      "checking class right\n",
      "checking class background\n",
      "checking class go\n",
      "checking class no\n",
      "checking class left\n",
      "checking class stop\n",
      "checking class up\n",
      "checking class down\n",
      "checking class yes\n",
      "checking class on\n",
      "checking class off\n"
     ]
    }
   ],
   "source": [
    "for class_name, class_dataset in audio_clean_dataset.items():\n",
    "    print(f\"checking class {class_name}\") \n",
    "    for mel_spec in class_dataset:\n",
    "        if mel_spec.shape != (128, 44):\n",
    "            print(f\"####### ERROR ######\")"
   ]
  },
  {
   "cell_type": "code",
   "execution_count": null,
   "metadata": {},
   "outputs": [],
   "source": []
  }
 ],
 "metadata": {
  "kernelspec": {
   "display_name": "Python 3 (Spyder)",
   "language": "python3",
   "name": "python3"
  },
  "language_info": {
   "codemirror_mode": {
    "name": "ipython",
    "version": 3
   },
   "file_extension": ".py",
   "mimetype": "text/x-python",
   "name": "python",
   "nbconvert_exporter": "python",
   "pygments_lexer": "ipython3",
   "version": "3.6.8"
  },
  "varInspector": {
   "cols": {
    "lenName": 16,
    "lenType": 16,
    "lenVar": 40
   },
   "kernels_config": {
    "python": {
     "delete_cmd_postfix": "",
     "delete_cmd_prefix": "del ",
     "library": "var_list.py",
     "varRefreshCmd": "print(var_dic_list())"
    },
    "r": {
     "delete_cmd_postfix": ") ",
     "delete_cmd_prefix": "rm(",
     "library": "var_list.r",
     "varRefreshCmd": "cat(var_dic_list()) "
    }
   },
   "types_to_exclude": [
    "module",
    "function",
    "builtin_function_or_method",
    "instance",
    "_Feature"
   ],
   "window_display": false
  }
 },
 "nbformat": 4,
 "nbformat_minor": 4
}
