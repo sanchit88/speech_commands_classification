{
 "cells": [
  {
   "cell_type": "code",
   "execution_count": 11,
   "metadata": {},
   "outputs": [],
   "source": [
    "%load_ext autoreload\n",
    "%autoreload 2"
   ]
  },
  {
   "cell_type": "code",
   "execution_count": 13,
   "metadata": {},
   "outputs": [],
   "source": [
    "import numpy as np\n",
    "import deepdish as dd\n",
    "import tensorflow as tf\n",
    "from sklearn.model_selection import train_test_split\n",
    "from tensorflow.keras.preprocessing.image import img_to_array, ImageDataGenerator\n",
    "from tensorflow.keras.models import Model\n",
    "from tensorflow.keras.layers import Conv2D, GlobalAveragePooling2D, BatchNormalization\n",
    "from tensorflow.keras.layers import Input, Activation, Flatten, Dense\n",
    "from tensorflow.keras.utils import to_categorical\n",
    "import matplotlib.pyplot as plt \n",
    "\n",
    "%matplotlib inline"
   ]
  },
  {
   "cell_type": "code",
   "execution_count": 2,
   "metadata": {},
   "outputs": [],
   "source": [
    "#define parameters \n",
    "file_path_dataset = \"/Users/sanchit/Documents/Projects/datasets/audio_data/speech_commands/audio_cleaned_dataset.h5\"\n",
    "batch_size = 64 \n",
    "epochs = 20"
   ]
  },
  {
   "cell_type": "code",
   "execution_count": 3,
   "metadata": {},
   "outputs": [],
   "source": [
    "def load_data(file_path=\"\", class_mode=\"binary\"):\n",
    "    X = []\n",
    "    y = []\n",
    "    dataset = dd.io.load(file_path)\n",
    "    \n",
    "    # create class name to a label index map \n",
    "    list_classes = dataset.keys() \n",
    "    list_classes = sorted(list_classes)\n",
    "\n",
    "    class_to_index = dict()\n",
    "    for ind, class_name in enumerate(list_classes):\n",
    "        class_to_index[class_name] = ind\n",
    "        \n",
    "    for class_name, list_feats in dataset.items():\n",
    "        print(f\"loading data for class: {class_name}\")\n",
    "        for feat in list_feats:\n",
    "            data = img_to_array(feat)\n",
    "            X.append(data)\n",
    "            y.append(class_to_index[class_name])\n",
    "        \n",
    "    X = np.asarray(X, dtype=np.float32)\n",
    "    y = np.asarray(y)\n",
    "    \n",
    "    if class_mode == \"categorical\":\n",
    "        y = to_categorical(y)\n",
    "        \n",
    "    return X, y, class_to_index"
   ]
  },
  {
   "cell_type": "code",
   "execution_count": 4,
   "metadata": {},
   "outputs": [],
   "source": [
    "def build_model(width, height, num_classes):\n",
    "    \"\"\"Build 2D CNN classifier.\"\"\"\n",
    "    input_data = Input(shape=(width, height, 1), name=\"input_layer\")\n",
    "    \n",
    "    x = BatchNormalization(center=True, scale=True)(input_data) # normalize and scale the data first \n",
    "    x = Conv2D(16, kernel_size=(3, 7), strides=1, padding=\"same\")(x)\n",
    "    x = BatchNormalization()(x)\n",
    "    x = Activation(\"relu\")(x)\n",
    "    \n",
    "    x = Conv2D(16, kernel_size=(7, 3), strides=1, padding=\"same\")(x)\n",
    "    x = BatchNormalization()(x)\n",
    "    x = Activation(\"relu\")(x)\n",
    "    \n",
    "    x = Conv2D(32, kernel_size=(3, 3), strides=2, padding=\"same\")(x)\n",
    "    x = BatchNormalization()(x)\n",
    "    x = Activation(\"relu\")(x)\n",
    "    \n",
    "    x = Conv2D(32, kernel_size=(3, 3), strides=2, padding=\"same\")(x)\n",
    "    x = BatchNormalization()(x)\n",
    "    x = Activation(\"relu\")(x)\n",
    "    \n",
    "    x = Conv2D(64, kernel_size=(3, 3), strides=2, padding=\"same\")(x)\n",
    "    x = BatchNormalization()(x)\n",
    "    x = Activation(\"relu\")(x)\n",
    "    \n",
    "    x = GlobalAveragePooling2D()(x)\n",
    "    \n",
    "    # classifier \n",
    "    x = Flatten()(x)\n",
    "    x = Dense(16, activation=\"relu\")(x)\n",
    "    \n",
    "    output = Dense(num_classes, activation=\"softmax\")(x)\n",
    "    \n",
    "    model = Model(inputs=input_data, outputs=output)\n",
    "    \n",
    "    return model"
   ]
  },
  {
   "cell_type": "code",
   "execution_count": 5,
   "metadata": {},
   "outputs": [
    {
     "name": "stderr",
     "output_type": "stream",
     "text": [
      "/anaconda3/envs/tf2.0_mkl/lib/python3.6/site-packages/deepdish/io/hdf5io.py:655: UserWarning: This file was saved with a newer version of deepdish. Please upgrade to make sure it loads correctly.\n",
      "  warnings.warn('This file was saved with a newer version of '\n"
     ]
    },
    {
     "name": "stdout",
     "output_type": "stream",
     "text": [
      "loading data for class: background\n",
      "loading data for class: down\n",
      "loading data for class: go\n",
      "loading data for class: left\n",
      "loading data for class: no\n",
      "loading data for class: off\n",
      "loading data for class: on\n",
      "loading data for class: right\n",
      "loading data for class: stop\n",
      "loading data for class: up\n",
      "loading data for class: yes\n"
     ]
    }
   ],
   "source": [
    "# load the whole data \n",
    "X, y, class_to_ind_map = load_data(file_path=file_path_dataset, class_mode=\"categorical\")\n",
    "num_classes = len(class_to_ind_map)"
   ]
  },
  {
   "cell_type": "code",
   "execution_count": 6,
   "metadata": {},
   "outputs": [],
   "source": [
    "# split the dataset into training and validation \n",
    "X_train, X_test, y_train, y_test = train_test_split(X, y, test_size=0.20, shuffle=True)\n",
    "nb_train_samples = len(X_train)\n",
    "nb_test_samples = len(X_test)"
   ]
  },
  {
   "cell_type": "code",
   "execution_count": 7,
   "metadata": {},
   "outputs": [],
   "source": [
    "# create train and test generators \n",
    "train_datagen = ImageDataGenerator()\n",
    "test_datagen = ImageDataGenerator() \n",
    "\n",
    "train_generator = train_datagen.flow(X_train, y_train, batch_size=batch_size, shuffle=True)\n",
    "test_generator = test_datagen.flow(X_test, y_test, batch_size=batch_size, shuffle=False)"
   ]
  },
  {
   "cell_type": "code",
   "execution_count": 8,
   "metadata": {},
   "outputs": [
    {
     "name": "stdout",
     "output_type": "stream",
     "text": [
      "Model: \"model\"\n",
      "_________________________________________________________________\n",
      "Layer (type)                 Output Shape              Param #   \n",
      "=================================================================\n",
      "input_layer (InputLayer)     [(None, 128, 44, 1)]      0         \n",
      "_________________________________________________________________\n",
      "batch_normalization (BatchNo (None, 128, 44, 1)        4         \n",
      "_________________________________________________________________\n",
      "conv2d (Conv2D)              (None, 128, 44, 16)       352       \n",
      "_________________________________________________________________\n",
      "batch_normalization_1 (Batch (None, 128, 44, 16)       64        \n",
      "_________________________________________________________________\n",
      "activation (Activation)      (None, 128, 44, 16)       0         \n",
      "_________________________________________________________________\n",
      "conv2d_1 (Conv2D)            (None, 128, 44, 16)       5392      \n",
      "_________________________________________________________________\n",
      "batch_normalization_2 (Batch (None, 128, 44, 16)       64        \n",
      "_________________________________________________________________\n",
      "activation_1 (Activation)    (None, 128, 44, 16)       0         \n",
      "_________________________________________________________________\n",
      "conv2d_2 (Conv2D)            (None, 64, 22, 32)        4640      \n",
      "_________________________________________________________________\n",
      "batch_normalization_3 (Batch (None, 64, 22, 32)        128       \n",
      "_________________________________________________________________\n",
      "activation_2 (Activation)    (None, 64, 22, 32)        0         \n",
      "_________________________________________________________________\n",
      "conv2d_3 (Conv2D)            (None, 32, 11, 32)        9248      \n",
      "_________________________________________________________________\n",
      "batch_normalization_4 (Batch (None, 32, 11, 32)        128       \n",
      "_________________________________________________________________\n",
      "activation_3 (Activation)    (None, 32, 11, 32)        0         \n",
      "_________________________________________________________________\n",
      "conv2d_4 (Conv2D)            (None, 16, 6, 64)         18496     \n",
      "_________________________________________________________________\n",
      "batch_normalization_5 (Batch (None, 16, 6, 64)         256       \n",
      "_________________________________________________________________\n",
      "activation_4 (Activation)    (None, 16, 6, 64)         0         \n",
      "_________________________________________________________________\n",
      "global_average_pooling2d (Gl (None, 64)                0         \n",
      "_________________________________________________________________\n",
      "flatten (Flatten)            (None, 64)                0         \n",
      "_________________________________________________________________\n",
      "dense (Dense)                (None, 16)                1040      \n",
      "_________________________________________________________________\n",
      "dense_1 (Dense)              (None, 11)                187       \n",
      "=================================================================\n",
      "Total params: 39,999\n",
      "Trainable params: 39,677\n",
      "Non-trainable params: 322\n",
      "_________________________________________________________________\n"
     ]
    }
   ],
   "source": [
    "# get the model and compile it \n",
    "model = build_model(128, 44, num_classes)\n",
    "model.compile(loss=\"categorical_crossentropy\", optimizer=\"adam\", metrics=[\"accuracy\"])\n",
    "model.summary()"
   ]
  },
  {
   "cell_type": "code",
   "execution_count": 9,
   "metadata": {},
   "outputs": [
    {
     "name": "stdout",
     "output_type": "stream",
     "text": [
      "Epoch 1/20\n",
      "294/294 [==============================] - 339s 1s/step - loss: 1.9092 - accuracy: 0.3230 - val_loss: 2.5206 - val_accuracy: 0.1796\n",
      "Epoch 2/20\n",
      "294/294 [==============================] - 324s 1s/step - loss: 1.3427 - accuracy: 0.5514 - val_loss: 2.4381 - val_accuracy: 0.2898\n",
      "Epoch 3/20\n",
      "294/294 [==============================] - 315s 1s/step - loss: 1.0164 - accuracy: 0.6712 - val_loss: 1.9943 - val_accuracy: 0.4238\n",
      "Epoch 4/20\n",
      "294/294 [==============================] - 317s 1s/step - loss: 0.7965 - accuracy: 0.7464 - val_loss: 1.2797 - val_accuracy: 0.6017\n",
      "Epoch 5/20\n",
      "294/294 [==============================] - 340s 1s/step - loss: 0.6620 - accuracy: 0.7914 - val_loss: 1.6063 - val_accuracy: 0.4949\n",
      "Epoch 6/20\n",
      "294/294 [==============================] - 337s 1s/step - loss: 0.5761 - accuracy: 0.8197 - val_loss: 1.4649 - val_accuracy: 0.5839\n",
      "Epoch 7/20\n",
      "294/294 [==============================] - 329s 1s/step - loss: 0.5163 - accuracy: 0.8374 - val_loss: 0.9988 - val_accuracy: 0.6625\n",
      "Epoch 8/20\n",
      "294/294 [==============================] - 352s 1s/step - loss: 0.4705 - accuracy: 0.8525 - val_loss: 1.0891 - val_accuracy: 0.6642\n",
      "Epoch 9/20\n",
      "294/294 [==============================] - 315s 1s/step - loss: 0.4336 - accuracy: 0.8624 - val_loss: 0.6974 - val_accuracy: 0.7735\n",
      "Epoch 10/20\n",
      "294/294 [==============================] - 317s 1s/step - loss: 0.4045 - accuracy: 0.8723 - val_loss: 0.6481 - val_accuracy: 0.7855\n",
      "Epoch 11/20\n",
      "294/294 [==============================] - 330s 1s/step - loss: 0.3875 - accuracy: 0.8741 - val_loss: 1.5664 - val_accuracy: 0.5599\n",
      "Epoch 12/20\n",
      "294/294 [==============================] - 327s 1s/step - loss: 0.3596 - accuracy: 0.8872 - val_loss: 0.6449 - val_accuracy: 0.7926\n",
      "Epoch 13/20\n",
      "294/294 [==============================] - 335s 1s/step - loss: 0.3415 - accuracy: 0.8912 - val_loss: 0.4728 - val_accuracy: 0.8491\n",
      "Epoch 14/20\n",
      "294/294 [==============================] - 330s 1s/step - loss: 0.3291 - accuracy: 0.8950 - val_loss: 0.5616 - val_accuracy: 0.8185\n",
      "Epoch 15/20\n",
      "294/294 [==============================] - 340s 1s/step - loss: 0.3071 - accuracy: 0.9023 - val_loss: 2.2087 - val_accuracy: 0.4842\n",
      "Epoch 16/20\n",
      "294/294 [==============================] - 342s 1s/step - loss: 0.3005 - accuracy: 0.9024 - val_loss: 0.4981 - val_accuracy: 0.8497\n",
      "Epoch 17/20\n",
      "294/294 [==============================] - 343s 1s/step - loss: 0.2736 - accuracy: 0.9128 - val_loss: 1.3596 - val_accuracy: 0.6766\n",
      "Epoch 18/20\n",
      "294/294 [==============================] - 353s 1s/step - loss: 0.2594 - accuracy: 0.9174 - val_loss: 0.4776 - val_accuracy: 0.8465\n",
      "Epoch 19/20\n",
      "294/294 [==============================] - 534s 2s/step - loss: 0.2553 - accuracy: 0.9192 - val_loss: 0.9088 - val_accuracy: 0.7327\n",
      "Epoch 20/20\n",
      "294/294 [==============================] - 329s 1s/step - loss: 0.2513 - accuracy: 0.9188 - val_loss: 1.0653 - val_accuracy: 0.7128\n"
     ]
    }
   ],
   "source": [
    "# train the model     \n",
    "H = model.fit_generator(train_generator, \n",
    "                        steps_per_epoch=nb_train_samples // batch_size, \n",
    "                        epochs=epochs, \n",
    "                        validation_data=test_generator, \n",
    "                        validation_steps=nb_test_samples // batch_size, \n",
    "                        workers = 6, \n",
    "                        use_multiprocessing=True)"
   ]
  },
  {
   "cell_type": "code",
   "execution_count": 14,
   "metadata": {},
   "outputs": [
    {
     "data": {
      "image/png": "[encoded data removed]",
      "text/plain": [
       "<Figure size 432x288 with 1 Axes>"
      ]
     },
     "metadata": {},
     "output_type": "display_data"
    }
   ],
   "source": [
    "# plot train/val losses\n",
    "N = np.arange(0, epochs)\n",
    "plt.style.use(\"ggplot\")\n",
    "plt.figure()\n",
    "plt.plot(N, H.history[\"loss\"], label=\"train_loss\")\n",
    "plt.plot(N, H.history[\"val_loss\"], label=\"val_loss\")\n",
    "plt.plot(N, H.history[\"accuracy\"], label=\"train_acc\")\n",
    "plt.plot(N, H.history[\"val_accuracy\"], label=\"val_acc\")\n",
    "plt.title(\"Training Loss and Accuracy\")\n",
    "plt.xlabel(\"Epoch #\")\n",
    "plt.ylabel(\"Loss/Accuracy\")\n",
    "plt.legend()\n",
    "plt.show()"
   ]
  },
  {
   "cell_type": "code",
   "execution_count": null,
   "metadata": {},
   "outputs": [],
   "source": []
  }
 ],
 "metadata": {
  "kernelspec": {
   "display_name": "Python 3",
   "language": "python",
   "name": "python3"
  },
  "language_info": {
   "codemirror_mode": {
    "name": "ipython",
    "version": 3
   },
   "file_extension": ".py",
   "mimetype": "text/x-python",
   "name": "python",
   "nbconvert_exporter": "python",
   "pygments_lexer": "ipython3",
   "version": "3.6.5"
  }
 },
 "nbformat": 4,
 "nbformat_minor": 4
}
